{
 "cells": [
  {
   "cell_type": "code",
   "execution_count": 1,
   "id": "26e516dd",
   "metadata": {},
   "outputs": [
    {
     "name": "stdout",
     "output_type": "stream",
     "text": [
      "[12, 17, 22]\n",
      "[2, 10, 3]\n",
      "[5, 12, 13]\n",
      "96\n"
     ]
    }
   ],
   "source": [
    "#2D list\n",
    "sales_data = [[12, 17, 22], [2, 10, 3], [5, 12, 13]]\n",
    "\n",
    "scoops_sold = 0\n",
    "\n",
    "#nested loop\n",
    "for location in sales_data:\n",
    "  print(location)\n",
    "    #inner sublist to print every single element \n",
    "  for element in location:\n",
    "    #after checking every single element and adds it to scoops_sold\n",
    "    scoops_sold += element\n",
    "    \n",
    "print(scoops_sold)"
   ]
  },
  {
   "cell_type": "code",
   "execution_count": 6,
   "id": "3331e370",
   "metadata": {},
   "outputs": [
    {
     "name": "stdout",
     "output_type": "stream",
     "text": [
      "[4, -2, 158, 66, -90]\n",
      "[6, -2, 237, 99, -90]\n"
     ]
    }
   ],
   "source": [
    "#normal for loops\n",
    "numbers = [2, -1, 79, 33, -45]\n",
    "doubled = []\n",
    " \n",
    "for number in numbers:\n",
    "    doubled.append(number * 2)\n",
    "print(doubled)\n",
    "\n",
    "#list comprehension\n",
    "numbers = [2, -1, 79, 33, -45]\n",
    "doubled = [num * 2 if num < 0 else num * 3 for num in numbers ]\n",
    "print(doubled)"
   ]
  },
  {
   "cell_type": "code",
   "execution_count": 4,
   "id": "51ac3b82",
   "metadata": {},
   "outputs": [
    {
     "name": "stdout",
     "output_type": "stream",
     "text": [
      "[-2, -90]\n",
      "[-2, -90]\n"
     ]
    }
   ],
   "source": [
    "numbers = [2, -1, 79, 33, -45]\n",
    "only_negative_doubled = []\n",
    " \n",
    "for num in numbers:\n",
    "    if num < 0:\n",
    "        only_negative_doubled.append(num * 2)\n",
    "print(only_negative_doubled)\n",
    "\n",
    "#with list comprehension\n",
    "#list comprehension shortens the line of code\n",
    "numbers = [2, -1, 79, 33, -45]\n",
    "negative_doubled = [num * 2 for num in numbers if num < 0]\n",
    "print(negative_doubled)"
   ]
  },
  {
   "cell_type": "code",
   "execution_count": 7,
   "id": "d6cca401",
   "metadata": {},
   "outputs": [
    {
     "name": "stdout",
     "output_type": "stream",
     "text": [
      "[6, -2, 237, 99, -90]\n"
     ]
    }
   ],
   "source": [
    "#If-Else conditions \n",
    "numbers = [2, -1, 79, 33, -45]\n",
    "doubled = [num * 2 if num < 0 else num * 3 for num in numbers ]\n",
    "print(doubled)"
   ]
  },
  {
   "cell_type": "code",
   "execution_count": 9,
   "id": "fa7cd17b",
   "metadata": {},
   "outputs": [
    {
     "name": "stdout",
     "output_type": "stream",
     "text": [
      "[0, 1, 4, 9, 16, 25, 36, 49, 64, 81]\n"
     ]
    }
   ],
   "source": [
    "#list comprehension\n",
    "single_digits = list(range(10))\n",
    "squares = [num**2 for num in single_digits]\n",
    "print(squares)"
   ]
  },
  {
   "cell_type": "code",
   "execution_count": 10,
   "id": "cd18fa59",
   "metadata": {},
   "outputs": [
    {
     "name": "stdout",
     "output_type": "stream",
     "text": [
      "[0.0, 0.5, 1.0, 1.5, 2.0, 2.5, 3.0, 3.5, 4.0, 4.5]\n"
     ]
    }
   ],
   "source": [
    "cubes = [cub/2 for cub in single_digits]\n",
    "print(cubes)"
   ]
  },
  {
   "cell_type": "code",
   "execution_count": 13,
   "id": "b0a31dd5",
   "metadata": {},
   "outputs": [
    {
     "name": "stdout",
     "output_type": "stream",
     "text": [
      "1\n",
      "1\n"
     ]
    }
   ],
   "source": [
    "numbers = [1, 1, 2, 3]\n",
    "for number in numbers:\n",
    "    if number % 2 == 0:\n",
    "        break\n",
    "    print(number)"
   ]
  },
  {
   "cell_type": "code",
   "execution_count": null,
   "id": "12769dc2",
   "metadata": {},
   "outputs": [],
   "source": [
    "python_learning = [\"Machine learning\", \"AI\", \"data science\", Algorithm]"
   ]
  },
  {
   "cell_type": "markdown",
   "id": "e75635d3",
   "metadata": {},
   "source": [
    "1. Divisible By Ten\n",
    "\n",
    "Let’s start our code challenges with a function that counts how many numbers are divisible by ten from a list of numbers. This function will accept a list of numbers as an input parameter and use a loop to check each of the numbers in the list. Every time a number is divisible by 10, a counter will be incremented and the final count will be returned. These are the steps we need to complete this:\n",
    "\n",
    "    1.Define the function to accept one input parameter called nums\n",
    "    2. Initialize a counter to 0\n",
    "    3. Loop through every number in nums\n",
    "    4. Within the loop, if any of the numbers are divisible by 10, increment our counter\n",
    "    5. Return the final counter value\n",
    "\n"
   ]
  },
  {
   "cell_type": "code",
   "execution_count": 2,
   "id": "91d7bd73",
   "metadata": {},
   "outputs": [
    {
     "name": "stdout",
     "output_type": "stream",
     "text": [
      "3\n"
     ]
    }
   ],
   "source": [
    "def divisible_by_ten(nums):\n",
    "    counter = 0\n",
    "    for number in nums:\n",
    "        if( number%10 == 0):\n",
    "            counter += 1\n",
    "    return counter\n",
    "#Uncomment the line below when your function is done\n",
    "print(divisible_by_ten([20, 25, 30, 35, 40]))"
   ]
  },
  {
   "cell_type": "markdown",
   "id": "6a3e2e9b",
   "metadata": {},
   "source": [
    "2. Greetings\n",
    "\n",
    "You are invited to a social gathering, \n",
    "but you are tired of greeting everyone there. \n",
    "Luckily we can create a function to accomplish this task for us. \n",
    "In this challenge, we will take a list of names and prepend the string 'Hello, ' before each name. \n",
    "This will require a few steps:\n",
    "\n",
    "    1.Define the function to accept a list of strings as a single parameter called names\n",
    "    2.Create a new list of strings\n",
    "    3. Loop through each name in names\n",
    "    4. Within the loop, concatenate 'Hello, ' and the current name together and append this new string to the new list of strings\n",
    "    5. Afterwards, return the new list of strings\n"
   ]
  },
  {
   "cell_type": "code",
   "execution_count": 4,
   "id": "39f12778",
   "metadata": {},
   "outputs": [
    {
     "name": "stdout",
     "output_type": "stream",
     "text": [
      "['Hello, Owen', 'Hello, Max', 'Hello, Sophie']\n"
     ]
    }
   ],
   "source": [
    "def add_greetings(names):\n",
    "    lst = []\n",
    "    for name in names:\n",
    "        lst.append('Hello, ' + str(name))\n",
    "    return lst\n",
    "\n",
    "#Uncomment the line below when your function is done\n",
    "print(add_greetings([\"Owen\", \"Max\", \"Sophie\"]))"
   ]
  },
  {
   "cell_type": "markdown",
   "id": "0edf0d4c",
   "metadata": {},
   "source": [
    "3. Delete Starting Even Numbers\n",
    "\n",
    "Let’s try a tricky challenge involving removing elements from a list. \n",
    "This function will repeatedly remove the first element of a list until it finds an odd number or runs out of elements. \n",
    "It will accept a list of numbers as an input parameter and return the modified list where any even numbers at the beginning of the list are removed. \n",
    "To do this, we will need the following steps:\n",
    "\n",
    "    1. Define our function to accept a single input parameter lst which is a list of numbers\n",
    "    2. Loop through every number in the list if there are still numbers in the list and if we haven’t hit an odd number yet\n",
    "    3.Within the loop, if the first number in the list is even, then remove the first number of the list\n",
    "    4. Once we hit an odd number or we run out of numbers, return the modified list\n",
    "\n"
   ]
  },
  {
   "cell_type": "markdown",
   "id": "24714ce4",
   "metadata": {},
   "source": [
    "Hint\n",
    "Use a while loop to check two things. First, check if the list has at least one element, using len(lst). Second, check to see if the first element is odd using mod (%). If both of those are True, slice off the first element of the list using lst = lst[1:]. "
   ]
  },
  {
   "cell_type": "markdown",
   "id": "78816ae2",
   "metadata": {},
   "source": [
    "After defining our method, we use a while loop to keep iterating as long as some provided conditions are true. We provide two conditions for the while loop to continue. We will keep iterating as long as there is at least one number left in the list len(lst) > 0 and if the first element in the list is even lst[0] % 2 == 0. If both of these conditions are true, then we replace the list with every element except for the first one using lst[1:]. Once the list is empty or we hit an odd number, the while loop terminates and we return the modified list."
   ]
  },
  {
   "cell_type": "code",
   "execution_count": 6,
   "id": "b81d4db3",
   "metadata": {},
   "outputs": [
    {
     "name": "stdout",
     "output_type": "stream",
     "text": [
      "[11, 12, 15]\n",
      "[]\n"
     ]
    }
   ],
   "source": [
    "#Write your function here\n",
    "def delete_starting_evens(lst):\n",
    "    while(len(lst) > 0 and lst[0] % 2 == 0):\n",
    "        lst = lst[1:]\n",
    "    return lst\n",
    "\n",
    "#Uncomment the lines below when your function is done\n",
    "print(delete_starting_evens([4, 8, 10, 11, 12, 15]))\n",
    "print(delete_starting_evens([4, 8, 10]))"
   ]
  },
  {
   "cell_type": "markdown",
   "id": "5ea2084e",
   "metadata": {},
   "source": [
    "4. Odd Indices\n",
    "\n",
    "This next function will give us the values from a list at every odd index. We will need to accept a list of numbers as an input parameter and loop through the odd indices instead of the elements. Here are the steps needed:\n",
    "\n",
    "    1.Define the function header to accept one input which will be our list of numbers\n",
    "    2.Create a new list which will hold our values to return\n",
    "    3.Iterate through every odd index until the end of the list\n",
    "    4.Within the loop, get the element at the current odd index and append it to our new list\n",
    "    5.Return the list of elements which we got from the odd indices.\n",
    "\n"
   ]
  },
  {
   "cell_type": "markdown",
   "id": "d58f4a43",
   "metadata": {},
   "source": [
    "4. Odd Indices\n",
    "\n",
    "This next function will give us the values from a list at every odd index. We will need to accept a list of numbers as an input parameter and loop through the odd indices instead of the elements. Here are the steps needed:\n",
    "\n",
    "    1.Define the function header to accept one input which will be our list of numbers\n",
    "    2.Create a new list which will hold our values to return\n",
    "    3.Iterate through every odd index until the end of the list\n",
    "    4.Within the loop, get the element at the current odd index and append it to our new list\n",
    "    5.Return the list of elements which we got from the odd indices.\n",
    "\n"
   ]
  },
  {
   "cell_type": "markdown",
   "id": "bed89406",
   "metadata": {},
   "source": [
    "Guide: Create a function named odd_indices() that has one parameter named lst.\n",
    "\n",
    "The function should create a new empty list and add every element from lst that has an odd index. The function should then return this new list.\n",
    "\n",
    "For example, odd_indices([4, 3, 7, 10, 11, -2]) should return the list [3, 10, -2].\n",
    "Hint\n",
    "There are a few ways to do this. range(1, len(lst), 2) will create a list of the indices you're interested in. So you could loop through that list like this:\n",
    "\n",
    "for index in range(1, len(lst), 2):\n",
    "  new_list.append(lst[index])\n",
    " "
   ]
  },
  {
   "cell_type": "code",
   "execution_count": 1,
   "id": "1a26b582",
   "metadata": {},
   "outputs": [
    {
     "name": "stdout",
     "output_type": "stream",
     "text": [
      "[3, 10, -2]\n"
     ]
    }
   ],
   "source": [
    "#Write your function here\n",
    "def odd_indices(lst):\n",
    "    new_list = []\n",
    "    for index in range(1, len(lst), 2):\n",
    "        new_list.append(lst[index])\n",
    "    return new_list\n",
    "#Uncomment the line below when your function is done\n",
    "print(odd_indices([4, 3, 7, 10, 11, -2]))"
   ]
  },
  {
   "cell_type": "markdown",
   "id": "0858a735",
   "metadata": {},
   "source": [
    "Explaination: In our solution, we iterate through a range of values. The function range(1, len(lst), 2) returns a list of numbers starting at 1, ending at the length of len, and incrementing by 2. This causes the loop to iterate through every odd number until the last index of our list of numbers. Using this, we can simply append the element at whatever index we are at since we know that using our range we will be iterating through only odd indices.\n",
    "\n",
    "Another way to do this would be to iterate through all indices and use an if statement to see if the index you’re currently looking at is odd."
   ]
  },
  {
   "cell_type": "markdown",
   "id": "37b60cae",
   "metadata": {},
   "source": [
    "5. Exponents\n",
    "\n",
    "In this challenge, we will be using nested loops in order to raise a list of numbers to the power of a list of other numbers. What this means is that for every number in the first list, we will raise that number to the power of every number in the second list. If you provide the first list with 2 elements and the second list with 3 numbers, then there will be 6 final answers. Let’s look at the steps we need:\n",
    "\n",
    "    1.Define the function to accept two lists of numbers, bases and powers\n",
    "    2.Create a new list that will contain our answers\n",
    "    3.Create a loop that iterates through every base in bases\n",
    "    4.Within that loop, create another loop that iterates through every power in power\n",
    "    5.Within that nested loop, append the result of the current base raised to the current power.\n",
    "    6.After all iterations of both loops are complete, return the list of answers\n",
    "\n"
   ]
  },
  {
   "cell_type": "markdown",
   "id": "1b8acb5a",
   "metadata": {},
   "source": [
    "the result would be the list [2, 4, 8, 3, 9, 27, 4, 16, 64]. It would first add two to the first. Then two to the second. Then two to the third, and so on.\n",
    "Hint\n",
    "Use nested for loops. The outer for loop should loop through all of the bases and the inner for loop should loop through all of the powers.\n",
    "\n",
    "Remember a ** b is a to the power of b\n"
   ]
  },
  {
   "cell_type": "code",
   "execution_count": 7,
   "id": "97f7d807",
   "metadata": {},
   "outputs": [
    {
     "name": "stdout",
     "output_type": "stream",
     "text": [
      "[2, 4, 8, 3, 9, 27, 4, 16, 64]\n"
     ]
    }
   ],
   "source": [
    "#Write your function here\n",
    "def exponents(bases, powers):\n",
    "    new_list = []\n",
    "   \n",
    "    for base in bases:  #outer loops for all bases\n",
    "        for power in powers: #inner loops for all powers\n",
    "            new_list.append(base**power)\n",
    "    return new_list\n",
    "\n",
    "#Uncomment the line below when your function is done\n",
    "print(exponents([2, 3, 4], [1, 2, 3]))"
   ]
  },
  {
   "cell_type": "markdown",
   "id": "fbcdc345",
   "metadata": {},
   "source": [
    "As you can see in this solution, we used two nested for loops so that, for every base, we iterate through every power. This allows us to raise each base to every single power in our list and append the answers to our new list. Finally, we return the list of answers."
   ]
  },
  {
   "cell_type": "markdown",
   "id": "575f12e8",
   "metadata": {},
   "source": [
    "Function and Loop Syntax"
   ]
  }
 ],
 "metadata": {
  "kernelspec": {
   "display_name": "Python 3",
   "language": "python",
   "name": "python3"
  },
  "language_info": {
   "codemirror_mode": {
    "name": "ipython",
    "version": 3
   },
   "file_extension": ".py",
   "mimetype": "text/x-python",
   "name": "python",
   "nbconvert_exporter": "python",
   "pygments_lexer": "ipython3",
   "version": "3.8.8"
  }
 },
 "nbformat": 4,
 "nbformat_minor": 5
}
